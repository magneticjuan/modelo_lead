{
 "cells": [
  {
   "cell_type": "code",
   "execution_count": 45,
   "metadata": {},
   "outputs": [],
   "source": [
    "import pandas as pd\n",
    "import numpy as np\n",
    "import funciones as fn  \n",
    "from sklearn.preprocessing import RobustScaler\n",
    "from sklearn.impute import SimpleImputer\n",
    "from ydata_profiling import ProfileReport"
   ]
  },
  {
   "cell_type": "code",
   "execution_count": 46,
   "metadata": {},
   "outputs": [
    {
     "data": {
      "text/html": [
       "<div>\n",
       "<style scoped>\n",
       "    .dataframe tbody tr th:only-of-type {\n",
       "        vertical-align: middle;\n",
       "    }\n",
       "\n",
       "    .dataframe tbody tr th {\n",
       "        vertical-align: top;\n",
       "    }\n",
       "\n",
       "    .dataframe thead th {\n",
       "        text-align: right;\n",
       "    }\n",
       "</style>\n",
       "<table border=\"1\" class=\"dataframe\">\n",
       "  <thead>\n",
       "    <tr style=\"text-align: right;\">\n",
       "      <th></th>\n",
       "      <th>Cuota_Inicial__c</th>\n",
       "      <th>Presupuesto_inmueble_a_comprar__c</th>\n",
       "      <th>ingresos_totales__c</th>\n",
       "      <th>Ingresos_familiares__c</th>\n",
       "      <th>Calidad_de_lead__c</th>\n",
       "      <th>picklist_ciudad__c</th>\n",
       "    </tr>\n",
       "  </thead>\n",
       "  <tbody>\n",
       "    <tr>\n",
       "      <th>0</th>\n",
       "      <td>7000000.0</td>\n",
       "      <td>300000000.0</td>\n",
       "      <td>5000000.0</td>\n",
       "      <td>5000000.0</td>\n",
       "      <td>Descalificado</td>\n",
       "      <td>Bogotá</td>\n",
       "    </tr>\n",
       "    <tr>\n",
       "      <th>1</th>\n",
       "      <td>2000000.0</td>\n",
       "      <td>200000000.0</td>\n",
       "      <td>2800000.0</td>\n",
       "      <td>2800000.0</td>\n",
       "      <td>Descalificado</td>\n",
       "      <td>Bogotá</td>\n",
       "    </tr>\n",
       "    <tr>\n",
       "      <th>2</th>\n",
       "      <td>4000000.0</td>\n",
       "      <td>NaN</td>\n",
       "      <td>800000.0</td>\n",
       "      <td>800000.0</td>\n",
       "      <td>Descalificado</td>\n",
       "      <td>Bogotá</td>\n",
       "    </tr>\n",
       "    <tr>\n",
       "      <th>3</th>\n",
       "      <td>700.0</td>\n",
       "      <td>18000000.0</td>\n",
       "      <td>1800000.0</td>\n",
       "      <td>1800000.0</td>\n",
       "      <td>Descalificado</td>\n",
       "      <td>Bogotá</td>\n",
       "    </tr>\n",
       "    <tr>\n",
       "      <th>4</th>\n",
       "      <td>0.0</td>\n",
       "      <td>170000000.0</td>\n",
       "      <td>3000000.0</td>\n",
       "      <td>3000000.0</td>\n",
       "      <td>Descalificado</td>\n",
       "      <td>Bogotá</td>\n",
       "    </tr>\n",
       "  </tbody>\n",
       "</table>\n",
       "</div>"
      ],
      "text/plain": [
       "   Cuota_Inicial__c  Presupuesto_inmueble_a_comprar__c  ingresos_totales__c  \\\n",
       "0         7000000.0                        300000000.0            5000000.0   \n",
       "1         2000000.0                        200000000.0            2800000.0   \n",
       "2         4000000.0                                NaN             800000.0   \n",
       "3             700.0                         18000000.0            1800000.0   \n",
       "4               0.0                        170000000.0            3000000.0   \n",
       "\n",
       "   Ingresos_familiares__c Calidad_de_lead__c picklist_ciudad__c  \n",
       "0               5000000.0      Descalificado             Bogotá  \n",
       "1               2800000.0      Descalificado             Bogotá  \n",
       "2                800000.0      Descalificado             Bogotá  \n",
       "3               1800000.0      Descalificado             Bogotá  \n",
       "4               3000000.0      Descalificado             Bogotá  "
      ]
     },
     "execution_count": 46,
     "metadata": {},
     "output_type": "execute_result"
    }
   ],
   "source": [
    "df = pd.read_csv('Datos_Train_Calidad_Lead.csv')\n",
    "\n",
    "df.head()"
   ]
  },
  {
   "cell_type": "code",
   "execution_count": 47,
   "metadata": {},
   "outputs": [
    {
     "name": "stdout",
     "output_type": "stream",
     "text": [
      "Conversión completada\n",
      "picklist_ciudad__c\n",
      "1    552\n",
      "0    151\n",
      "Name: count, dtype: int64\n"
     ]
    }
   ],
   "source": [
    "# Convertir la columna 'picklist_ciudad__c' en binaria (1 para 'Bogotá', 0 para otras ciudades)\n",
    "df['picklist_ciudad__c'] = df['picklist_ciudad__c'].apply(lambda x: 1 if x == 'Bogotá' else 0)\n",
    "print(\"Conversión completada\")\n",
    "print(df['picklist_ciudad__c'].value_counts())"
   ]
  },
  {
   "cell_type": "code",
   "execution_count": 48,
   "metadata": {},
   "outputs": [
    {
     "data": {
      "text/plain": [
       "Calidad_de_lead__c\n",
       "-1    536\n",
       " 1    116\n",
       " 0     51\n",
       "Name: count, dtype: int64"
      ]
     },
     "execution_count": 48,
     "metadata": {},
     "output_type": "execute_result"
    }
   ],
   "source": [
    "mapping = {'Alta': 1, 'Media': 0, 'Descalificado': -1}\n",
    "df['Calidad_de_lead__c'] = df['Calidad_de_lead__c'].map(mapping)\n",
    "df['Calidad_de_lead__c'].value_counts()"
   ]
  },
  {
   "cell_type": "code",
   "execution_count": 49,
   "metadata": {},
   "outputs": [],
   "source": [
    "imputer = SimpleImputer(strategy='mean')\n",
    "df.loc[:, df.isnull().any()] = imputer.fit_transform(df.loc[:, df.isnull().any()])"
   ]
  },
  {
   "cell_type": "code",
   "execution_count": 50,
   "metadata": {},
   "outputs": [],
   "source": [
    "def eliminar_percentil_extremos(df, columna):\n",
    "    percentil_inferior = np.percentile(df[columna], 1)\n",
    "    percentil_superior = np.percentile(df[columna], 99)\n",
    "    return df[(df[columna] >= percentil_inferior) & (df[columna] <= percentil_superior)]"
   ]
  },
  {
   "cell_type": "code",
   "execution_count": 51,
   "metadata": {},
   "outputs": [],
   "source": [
    "df = eliminar_percentil_extremos(df, columna='Cuota_Inicial__c')\n",
    "df = eliminar_percentil_extremos(df, columna='Presupuesto_inmueble_a_comprar__c')\n",
    "df = eliminar_percentil_extremos(df, columna='ingresos_totales__c')\n",
    "df = eliminar_percentil_extremos(df, columna='Ingresos_familiares__c')"
   ]
  },
  {
   "cell_type": "code",
   "execution_count": 52,
   "metadata": {},
   "outputs": [],
   "source": [
    "df['Cuota_Inicial__c'] = df['Cuota_Inicial__c'].apply(fn.ajustar_valores)\n",
    "df['ingresos_totales__c'] = df['ingresos_totales__c'].apply(fn.ajustar_valores)\n",
    "df['Ingresos_familiares__c'] = df['Ingresos_familiares__c'].apply(fn.ajustar_valores)"
   ]
  },
  {
   "cell_type": "code",
   "execution_count": 53,
   "metadata": {},
   "outputs": [],
   "source": [
    "def identificar_outliers(df, columna):\n",
    "    media = df[columna].mean()\n",
    "    desv_std = df[columna].std()\n",
    "    umbral = 3\n",
    "    outliers_std = np.abs(df[columna] - media) > (umbral * desv_std)\n",
    "    return {\n",
    "        'outliers_std': df[outliers_std].index.tolist()\n",
    "    }"
   ]
  },
  {
   "cell_type": "code",
   "execution_count": 54,
   "metadata": {},
   "outputs": [
    {
     "name": "stdout",
     "output_type": "stream",
     "text": [
      "Columna Cuota_Inicial__c: 16 outliers encontrados\n",
      "Columna Presupuesto_inmueble_a_comprar__c: 44 outliers encontrados\n",
      "Columna ingresos_totales__c: 13 outliers encontrados\n",
      "Columna Ingresos_familiares__c: 10 outliers encontrados\n",
      "Columna Calidad_de_lead__c: 0 outliers encontrados\n",
      "Columna picklist_ciudad__c: 0 outliers encontrados\n"
     ]
    }
   ],
   "source": [
    "for columna in df.columns:\n",
    "    outliers = identificar_outliers(df, columna)['outliers_std']\n",
    "    print(f'Columna {columna}: {len(outliers)} outliers encontrados')"
   ]
  },
  {
   "cell_type": "code",
   "execution_count": 55,
   "metadata": {},
   "outputs": [],
   "source": [
    "scaler = RobustScaler()"
   ]
  },
  {
   "cell_type": "code",
   "execution_count": 56,
   "metadata": {},
   "outputs": [],
   "source": [
    "for columna in df.columns:\n",
    "    outliers = identificar_outliers(df, columna)['outliers_std']\n",
    "    if outliers:\n",
    "        # Seleccionar los valores outliers y escalarlos\n",
    "        outlier_values = df.loc[outliers, columna].values.reshape(-1, 1)\n",
    "        scaled_values = scaler.fit_transform(outlier_values)\n",
    "        df.loc[outliers, columna] = scaled_values.flatten()"
   ]
  },
  {
   "cell_type": "code",
   "execution_count": 57,
   "metadata": {},
   "outputs": [
    {
     "name": "stderr",
     "output_type": "stream",
     "text": [
      "Summarize dataset: 100%|██████████| 31/31 [00:01<00:00, 25.07it/s, Completed]                                                                   \n",
      "Generate report structure: 100%|██████████| 1/1 [00:01<00:00,  1.06s/it]\n",
      "Render HTML: 100%|██████████| 1/1 [00:00<00:00,  3.01it/s]\n",
      "C:\\Users\\USUARIO\\AppData\\Local\\Packages\\PythonSoftwareFoundation.Python.3.12_qbz5n2kfra8p0\\LocalCache\\local-packages\\Python312\\site-packages\\ydata_profiling\\profile_report.py:384: UserWarning: Extension  not supported. For now we assume .html was intended. To remove this warning, please use .html or .json.\n",
      "  warnings.warn(\n",
      "Export report to file: 100%|██████████| 1/1 [00:00<?, ?it/s]\n"
     ]
    }
   ],
   "source": [
    "profile = ProfileReport(df, title='EDA Data Salesforce', explorative=True)\n",
    "profile.to_file('EDA Data Salesforce')"
   ]
  },
  {
   "cell_type": "code",
   "execution_count": 58,
   "metadata": {},
   "outputs": [],
   "source": [
    "df.to_csv('Datos_Train_Calidad_Lead_Clean.csv', index=False)"
   ]
  }
 ],
 "metadata": {
  "kernelspec": {
   "display_name": "Python 3",
   "language": "python",
   "name": "python3"
  },
  "language_info": {
   "codemirror_mode": {
    "name": "ipython",
    "version": 3
   },
   "file_extension": ".py",
   "mimetype": "text/x-python",
   "name": "python",
   "nbconvert_exporter": "python",
   "pygments_lexer": "ipython3",
   "version": "3.12.3"
  }
 },
 "nbformat": 4,
 "nbformat_minor": 2
}
