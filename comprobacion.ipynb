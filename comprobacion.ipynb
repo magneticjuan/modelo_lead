{
 "cells": [
  {
   "cell_type": "code",
   "execution_count": 11,
   "metadata": {},
   "outputs": [],
   "source": [
    "import pandas as pd\n",
    "import pickle\n",
    "from sklearn.preprocessing import StandardScaler, MinMaxScaler\n",
    "import matplotlib.pyplot as plt"
   ]
  },
  {
   "cell_type": "code",
   "execution_count": 12,
   "metadata": {},
   "outputs": [],
   "source": [
    "# Cargar el modelo guardado\n",
    "with open('mejor_modelo_calidad_lead.pkl', 'rb') as file:\n",
    "    mejor_modelo = pickle.load(file)"
   ]
  },
  {
   "cell_type": "code",
   "execution_count": 13,
   "metadata": {},
   "outputs": [],
   "source": [
    "# Definir una función para cargar el modelo y calcular el score\n",
    "def calcular_puntaje(df):\n",
    "    # Preprocesar los datos\n",
    "    X = df.drop(['Calidad_de_lead__c'], axis=1)\n",
    "    \n",
    "    # Normalizar los datos\n",
    "    escalador = StandardScaler()\n",
    "    X_normalizado = escalador.fit_transform(X)\n",
    "    \n",
    "    # Predecir usando el modelo\n",
    "    puntajes_raw = mejor_modelo.predict(X_normalizado)\n",
    "    \n",
    "    # Obtener la importancia de las características\n",
    "    importancias = mejor_modelo.feature_importances_\n",
    "    \n",
    "    # Calcular los puntajes basados en la importancia de las características\n",
    "    puntajes_importancia = X.dot(importancias)\n",
    "    \n",
    "    # Escalar las puntuaciones entre 0 y 100\n",
    "    escalador_minmax = MinMaxScaler(feature_range=(0, 100))\n",
    "    puntajes_importancia_escalados = escalador_minmax.fit_transform(puntajes_importancia.values.reshape(-1, 1))\n",
    "    \n",
    "    # Agregar una nueva columna con los puntajes al DataFrame original\n",
    "    df['Puntaje_calculado'] = puntajes_importancia_escalados\n",
    "    \n",
    "    return df"
   ]
  },
  {
   "cell_type": "code",
   "execution_count": 14,
   "metadata": {},
   "outputs": [
    {
     "data": {
      "text/html": [
       "<div>\n",
       "<style scoped>\n",
       "    .dataframe tbody tr th:only-of-type {\n",
       "        vertical-align: middle;\n",
       "    }\n",
       "\n",
       "    .dataframe tbody tr th {\n",
       "        vertical-align: top;\n",
       "    }\n",
       "\n",
       "    .dataframe thead th {\n",
       "        text-align: right;\n",
       "    }\n",
       "</style>\n",
       "<table border=\"1\" class=\"dataframe\">\n",
       "  <thead>\n",
       "    <tr style=\"text-align: right;\">\n",
       "      <th></th>\n",
       "      <th>Cuota_Inicial__c</th>\n",
       "      <th>Presupuesto_inmueble_a_comprar__c</th>\n",
       "      <th>ingresos_totales__c</th>\n",
       "      <th>Ingresos_familiares__c</th>\n",
       "      <th>Calidad_de_lead__c</th>\n",
       "      <th>picklist_ciudad__c</th>\n",
       "    </tr>\n",
       "  </thead>\n",
       "  <tbody>\n",
       "    <tr>\n",
       "      <th>0</th>\n",
       "      <td>7000000.0</td>\n",
       "      <td>3.000000e+08</td>\n",
       "      <td>5000000.0</td>\n",
       "      <td>5000000.0</td>\n",
       "      <td>-1</td>\n",
       "      <td>1</td>\n",
       "    </tr>\n",
       "    <tr>\n",
       "      <th>1</th>\n",
       "      <td>2000000.0</td>\n",
       "      <td>2.000000e+08</td>\n",
       "      <td>2800000.0</td>\n",
       "      <td>2800000.0</td>\n",
       "      <td>-1</td>\n",
       "      <td>1</td>\n",
       "    </tr>\n",
       "    <tr>\n",
       "      <th>2</th>\n",
       "      <td>4000000.0</td>\n",
       "      <td>2.488307e+08</td>\n",
       "      <td>1000000.0</td>\n",
       "      <td>1000000.0</td>\n",
       "      <td>-1</td>\n",
       "      <td>1</td>\n",
       "    </tr>\n",
       "    <tr>\n",
       "      <th>3</th>\n",
       "      <td>1000000.0</td>\n",
       "      <td>1.800000e+07</td>\n",
       "      <td>1800000.0</td>\n",
       "      <td>1800000.0</td>\n",
       "      <td>-1</td>\n",
       "      <td>1</td>\n",
       "    </tr>\n",
       "    <tr>\n",
       "      <th>4</th>\n",
       "      <td>0.0</td>\n",
       "      <td>1.700000e+08</td>\n",
       "      <td>3000000.0</td>\n",
       "      <td>3000000.0</td>\n",
       "      <td>-1</td>\n",
       "      <td>1</td>\n",
       "    </tr>\n",
       "  </tbody>\n",
       "</table>\n",
       "</div>"
      ],
      "text/plain": [
       "   Cuota_Inicial__c  Presupuesto_inmueble_a_comprar__c  ingresos_totales__c  \\\n",
       "0         7000000.0                       3.000000e+08            5000000.0   \n",
       "1         2000000.0                       2.000000e+08            2800000.0   \n",
       "2         4000000.0                       2.488307e+08            1000000.0   \n",
       "3         1000000.0                       1.800000e+07            1800000.0   \n",
       "4               0.0                       1.700000e+08            3000000.0   \n",
       "\n",
       "   Ingresos_familiares__c  Calidad_de_lead__c  picklist_ciudad__c  \n",
       "0               5000000.0                  -1                   1  \n",
       "1               2800000.0                  -1                   1  \n",
       "2               1000000.0                  -1                   1  \n",
       "3               1800000.0                  -1                   1  \n",
       "4               3000000.0                  -1                   1  "
      ]
     },
     "execution_count": 14,
     "metadata": {},
     "output_type": "execute_result"
    }
   ],
   "source": [
    "df = pd.read_csv('Datos_Train_Calidad_Lead_Clean.csv')\n",
    "df.head()"
   ]
  },
  {
   "cell_type": "code",
   "execution_count": 20,
   "metadata": {},
   "outputs": [
    {
     "data": {
      "image/png": "[encoded data removed]",
      "text/plain": [
       "<Figure size 1000x600 with 1 Axes>"
      ]
     },
     "metadata": {},
     "output_type": "display_data"
    }
   ],
   "source": [
    "calidad_counts = df['Calidad_de_lead__c'].value_counts()\n",
    "\n",
    "# Crear el histograma\n",
    "plt.figure(figsize=(10, 6))\n",
    "calidad_counts.plot(kind='bar')\n",
    "plt.title('Distribución de Calidad de Lead')\n",
    "plt.xlabel('Calidad de Lead')\n",
    "plt.ylabel('Frecuencia')\n",
    "plt.xticks(rotation=0)\n",
    "plt.show()"
   ]
  },
  {
   "cell_type": "code",
   "execution_count": 16,
   "metadata": {},
   "outputs": [
    {
     "data": {
      "text/html": [
       "<div>\n",
       "<style scoped>\n",
       "    .dataframe tbody tr th:only-of-type {\n",
       "        vertical-align: middle;\n",
       "    }\n",
       "\n",
       "    .dataframe tbody tr th {\n",
       "        vertical-align: top;\n",
       "    }\n",
       "\n",
       "    .dataframe thead th {\n",
       "        text-align: right;\n",
       "    }\n",
       "</style>\n",
       "<table border=\"1\" class=\"dataframe\">\n",
       "  <thead>\n",
       "    <tr style=\"text-align: right;\">\n",
       "      <th></th>\n",
       "      <th>Cuota_Inicial__c</th>\n",
       "      <th>Presupuesto_inmueble_a_comprar__c</th>\n",
       "      <th>ingresos_totales__c</th>\n",
       "      <th>Ingresos_familiares__c</th>\n",
       "      <th>Calidad_de_lead__c</th>\n",
       "      <th>picklist_ciudad__c</th>\n",
       "      <th>Puntaje_calculado</th>\n",
       "    </tr>\n",
       "  </thead>\n",
       "  <tbody>\n",
       "    <tr>\n",
       "      <th>0</th>\n",
       "      <td>7000000.0</td>\n",
       "      <td>3.000000e+08</td>\n",
       "      <td>5000000.0</td>\n",
       "      <td>5000000.0</td>\n",
       "      <td>-1</td>\n",
       "      <td>1</td>\n",
       "      <td>4.274795</td>\n",
       "    </tr>\n",
       "    <tr>\n",
       "      <th>1</th>\n",
       "      <td>2000000.0</td>\n",
       "      <td>2.000000e+08</td>\n",
       "      <td>2800000.0</td>\n",
       "      <td>2800000.0</td>\n",
       "      <td>-1</td>\n",
       "      <td>1</td>\n",
       "      <td>2.779881</td>\n",
       "    </tr>\n",
       "    <tr>\n",
       "      <th>2</th>\n",
       "      <td>4000000.0</td>\n",
       "      <td>2.488307e+08</td>\n",
       "      <td>1000000.0</td>\n",
       "      <td>1000000.0</td>\n",
       "      <td>-1</td>\n",
       "      <td>1</td>\n",
       "      <td>3.472114</td>\n",
       "    </tr>\n",
       "    <tr>\n",
       "      <th>3</th>\n",
       "      <td>1000000.0</td>\n",
       "      <td>1.800000e+07</td>\n",
       "      <td>1800000.0</td>\n",
       "      <td>1800000.0</td>\n",
       "      <td>-1</td>\n",
       "      <td>1</td>\n",
       "      <td>0.284703</td>\n",
       "    </tr>\n",
       "    <tr>\n",
       "      <th>4</th>\n",
       "      <td>0.0</td>\n",
       "      <td>1.700000e+08</td>\n",
       "      <td>3000000.0</td>\n",
       "      <td>3000000.0</td>\n",
       "      <td>-1</td>\n",
       "      <td>1</td>\n",
       "      <td>2.327299</td>\n",
       "    </tr>\n",
       "  </tbody>\n",
       "</table>\n",
       "</div>"
      ],
      "text/plain": [
       "   Cuota_Inicial__c  Presupuesto_inmueble_a_comprar__c  ingresos_totales__c  \\\n",
       "0         7000000.0                       3.000000e+08            5000000.0   \n",
       "1         2000000.0                       2.000000e+08            2800000.0   \n",
       "2         4000000.0                       2.488307e+08            1000000.0   \n",
       "3         1000000.0                       1.800000e+07            1800000.0   \n",
       "4               0.0                       1.700000e+08            3000000.0   \n",
       "\n",
       "   Ingresos_familiares__c  Calidad_de_lead__c  picklist_ciudad__c  \\\n",
       "0               5000000.0                  -1                   1   \n",
       "1               2800000.0                  -1                   1   \n",
       "2               1000000.0                  -1                   1   \n",
       "3               1800000.0                  -1                   1   \n",
       "4               3000000.0                  -1                   1   \n",
       "\n",
       "   Puntaje_calculado  \n",
       "0           4.274795  \n",
       "1           2.779881  \n",
       "2           3.472114  \n",
       "3           0.284703  \n",
       "4           2.327299  "
      ]
     },
     "execution_count": 16,
     "metadata": {},
     "output_type": "execute_result"
    }
   ],
   "source": [
    "df_con_puntajes = calcular_puntaje(df)\n",
    "df_con_puntajes.head()"
   ]
  },
  {
   "cell_type": "code",
   "execution_count": 21,
   "metadata": {},
   "outputs": [
    {
     "data": {
      "image/png": "[encoded data removed]",
      "text/plain": [
       "<Figure size 1000x600 with 1 Axes>"
      ]
     },
     "metadata": {},
     "output_type": "display_data"
    }
   ],
   "source": [
    "puntaje_count = df['Puntaje_calculado'].value_counts()\n",
    "\n",
    "# Crear el histograma\n",
    "plt.figure(figsize=(10, 6))\n",
    "puntaje_count.plot(kind='bar')\n",
    "plt.title('Distribución de Calidad de Lead')\n",
    "plt.xlabel('Calidad de Lead')\n",
    "plt.ylabel('Frecuencia')\n",
    "plt.xticks(rotation=0)\n",
    "plt.show()"
   ]
  }
 ],
 "metadata": {
  "kernelspec": {
   "display_name": "Python 3",
   "language": "python",
   "name": "python3"
  },
  "language_info": {
   "codemirror_mode": {
    "name": "ipython",
    "version": 3
   },
   "file_extension": ".py",
   "mimetype": "text/x-python",
   "name": "python",
   "nbconvert_exporter": "python",
   "pygments_lexer": "ipython3",
   "version": "3.12.3"
  }
 },
 "nbformat": 4,
 "nbformat_minor": 2
}
