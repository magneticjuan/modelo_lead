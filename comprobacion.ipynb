{
 "cells": [
  {
   "cell_type": "code",
   "execution_count": 65,
   "metadata": {},
   "outputs": [],
   "source": [
    "import pandas as pd\n",
    "import pickle\n",
    "from sklearn.preprocessing import StandardScaler, MinMaxScaler\n",
    "import matplotlib.pyplot as plt"
   ]
  },
  {
   "cell_type": "code",
   "execution_count": 66,
   "metadata": {},
   "outputs": [],
   "source": [
    "# Cargar el modelo guardado\n",
    "with open('mejor_modelo_calidad_lead.pkl', 'rb') as file:\n",
    "    mejor_modelo = pickle.load(file)"
   ]
  },
  {
   "cell_type": "code",
   "execution_count": 67,
   "metadata": {},
   "outputs": [],
   "source": [
    "# Definir una función para cargar el modelo y calcular el score\n",
    "def calcular_puntaje(df):\n",
    "    # Preprocesar los datos\n",
    "    X = df.drop(['Calidad_de_lead__c'], axis=1)\n",
    "    \n",
    "    # Normalizar los datos\n",
    "    escalador = StandardScaler()\n",
    "    X_normalizado = escalador.fit_transform(X)\n",
    "    \n",
    "    # Predecir usando el modelo\n",
    "    puntajes_raw = mejor_modelo.predict(X_normalizado)\n",
    "    \n",
    "    # Obtener la importancia de las características\n",
    "    importancias = mejor_modelo.feature_importances_\n",
    "    \n",
    "    # Calcular los puntajes basados en la importancia de las características\n",
    "    puntajes_importancia = X.dot(importancias)\n",
    "    \n",
    "    # Escalar las puntuaciones entre 0 y 100\n",
    "    escalador_minmax = MinMaxScaler(feature_range=(0, 100))\n",
    "    puntajes_importancia_escalados = escalador_minmax.fit_transform(puntajes_importancia.values.reshape(-1, 1))\n",
    "    \n",
    "    # Agregar una nueva columna con los puntajes al DataFrame original\n",
    "    df['Puntaje_calculado'] = puntajes_importancia_escalados\n",
    "    \n",
    "    return df"
   ]
  },
  {
   "cell_type": "code",
   "execution_count": 68,
   "metadata": {},
   "outputs": [
    {
     "data": {
      "text/html": [
       "<div>\n",
       "<style scoped>\n",
       "    .dataframe tbody tr th:only-of-type {\n",
       "        vertical-align: middle;\n",
       "    }\n",
       "\n",
       "    .dataframe tbody tr th {\n",
       "        vertical-align: top;\n",
       "    }\n",
       "\n",
       "    .dataframe thead th {\n",
       "        text-align: right;\n",
       "    }\n",
       "</style>\n",
       "<table border=\"1\" class=\"dataframe\">\n",
       "  <thead>\n",
       "    <tr style=\"text-align: right;\">\n",
       "      <th></th>\n",
       "      <th>pctcuota_inicial__c</th>\n",
       "      <th>Presupuesto_inmueble_a_comprar__c</th>\n",
       "      <th>de_ingresos_sobre_el_inmueble__c</th>\n",
       "      <th>picklist_ciudad__c</th>\n",
       "      <th>Calidad_de_lead__c</th>\n",
       "    </tr>\n",
       "  </thead>\n",
       "  <tbody>\n",
       "    <tr>\n",
       "      <th>0</th>\n",
       "      <td>2.330000</td>\n",
       "      <td>3.000000e+08</td>\n",
       "      <td>1.71</td>\n",
       "      <td>1</td>\n",
       "      <td>-1</td>\n",
       "    </tr>\n",
       "    <tr>\n",
       "      <th>1</th>\n",
       "      <td>1.000000</td>\n",
       "      <td>2.000000e+08</td>\n",
       "      <td>1.41</td>\n",
       "      <td>1</td>\n",
       "      <td>-1</td>\n",
       "    </tr>\n",
       "    <tr>\n",
       "      <th>2</th>\n",
       "      <td>4405.569989</td>\n",
       "      <td>2.487111e+08</td>\n",
       "      <td>-20.00</td>\n",
       "      <td>1</td>\n",
       "      <td>-1</td>\n",
       "    </tr>\n",
       "    <tr>\n",
       "      <th>3</th>\n",
       "      <td>0.000000</td>\n",
       "      <td>1.800000e+07</td>\n",
       "      <td>10.00</td>\n",
       "      <td>1</td>\n",
       "      <td>-1</td>\n",
       "    </tr>\n",
       "    <tr>\n",
       "      <th>4</th>\n",
       "      <td>0.000000</td>\n",
       "      <td>1.700000e+08</td>\n",
       "      <td>1.76</td>\n",
       "      <td>1</td>\n",
       "      <td>-1</td>\n",
       "    </tr>\n",
       "  </tbody>\n",
       "</table>\n",
       "</div>"
      ],
      "text/plain": [
       "   pctcuota_inicial__c  Presupuesto_inmueble_a_comprar__c  \\\n",
       "0             2.330000                       3.000000e+08   \n",
       "1             1.000000                       2.000000e+08   \n",
       "2          4405.569989                       2.487111e+08   \n",
       "3             0.000000                       1.800000e+07   \n",
       "4             0.000000                       1.700000e+08   \n",
       "\n",
       "   de_ingresos_sobre_el_inmueble__c  picklist_ciudad__c  Calidad_de_lead__c  \n",
       "0                              1.71                   1                  -1  \n",
       "1                              1.41                   1                  -1  \n",
       "2                            -20.00                   1                  -1  \n",
       "3                             10.00                   1                  -1  \n",
       "4                              1.76                   1                  -1  "
      ]
     },
     "execution_count": 68,
     "metadata": {},
     "output_type": "execute_result"
    }
   ],
   "source": [
    "df = pd.read_csv('Datos_Train_Calidad_Lead_Clean.csv')\n",
    "df.head()"
   ]
  },
  {
   "cell_type": "code",
   "execution_count": 72,
   "metadata": {},
   "outputs": [
    {
     "name": "stdout",
     "output_type": "stream",
     "text": [
      "Número de registros con Calidad_de_lead__c igual a 0: 116\n"
     ]
    }
   ],
   "source": [
    "# Filtrar los registros que tienen el valor 0 en la columna 'Calidad_de_lead__c'\n",
    "filtro = df['Calidad_de_lead__c'] == -1\n",
    "\n",
    "# Contar los registros que cumplen con el filtro\n",
    "conteo = df[filtro].shape[0]\n",
    "\n",
    "print(f'Número de registros con Calidad_de_lead__c igual a 0: {conteo}')"
   ]
  },
  {
   "cell_type": "code",
   "execution_count": 70,
   "metadata": {},
   "outputs": [
    {
     "data": {
      "text/html": [
       "<div>\n",
       "<style scoped>\n",
       "    .dataframe tbody tr th:only-of-type {\n",
       "        vertical-align: middle;\n",
       "    }\n",
       "\n",
       "    .dataframe tbody tr th {\n",
       "        vertical-align: top;\n",
       "    }\n",
       "\n",
       "    .dataframe thead th {\n",
       "        text-align: right;\n",
       "    }\n",
       "</style>\n",
       "<table border=\"1\" class=\"dataframe\">\n",
       "  <thead>\n",
       "    <tr style=\"text-align: right;\">\n",
       "      <th></th>\n",
       "      <th>pctcuota_inicial__c</th>\n",
       "      <th>Presupuesto_inmueble_a_comprar__c</th>\n",
       "      <th>de_ingresos_sobre_el_inmueble__c</th>\n",
       "      <th>picklist_ciudad__c</th>\n",
       "      <th>Calidad_de_lead__c</th>\n",
       "      <th>Puntaje_calculado</th>\n",
       "    </tr>\n",
       "  </thead>\n",
       "  <tbody>\n",
       "    <tr>\n",
       "      <th>0</th>\n",
       "      <td>2.330000</td>\n",
       "      <td>3.000000e+08</td>\n",
       "      <td>1.71</td>\n",
       "      <td>1</td>\n",
       "      <td>-1</td>\n",
       "      <td>5.730402</td>\n",
       "    </tr>\n",
       "    <tr>\n",
       "      <th>1</th>\n",
       "      <td>1.000000</td>\n",
       "      <td>2.000000e+08</td>\n",
       "      <td>1.41</td>\n",
       "      <td>1</td>\n",
       "      <td>-1</td>\n",
       "      <td>3.820268</td>\n",
       "    </tr>\n",
       "    <tr>\n",
       "      <th>2</th>\n",
       "      <td>4405.569989</td>\n",
       "      <td>2.487111e+08</td>\n",
       "      <td>-20.00</td>\n",
       "      <td>1</td>\n",
       "      <td>-1</td>\n",
       "      <td>4.750991</td>\n",
       "    </tr>\n",
       "    <tr>\n",
       "      <th>3</th>\n",
       "      <td>0.000000</td>\n",
       "      <td>1.800000e+07</td>\n",
       "      <td>10.00</td>\n",
       "      <td>1</td>\n",
       "      <td>-1</td>\n",
       "      <td>0.343825</td>\n",
       "    </tr>\n",
       "    <tr>\n",
       "      <th>4</th>\n",
       "      <td>0.000000</td>\n",
       "      <td>1.700000e+08</td>\n",
       "      <td>1.76</td>\n",
       "      <td>1</td>\n",
       "      <td>-1</td>\n",
       "      <td>3.247228</td>\n",
       "    </tr>\n",
       "  </tbody>\n",
       "</table>\n",
       "</div>"
      ],
      "text/plain": [
       "   pctcuota_inicial__c  Presupuesto_inmueble_a_comprar__c  \\\n",
       "0             2.330000                       3.000000e+08   \n",
       "1             1.000000                       2.000000e+08   \n",
       "2          4405.569989                       2.487111e+08   \n",
       "3             0.000000                       1.800000e+07   \n",
       "4             0.000000                       1.700000e+08   \n",
       "\n",
       "   de_ingresos_sobre_el_inmueble__c  picklist_ciudad__c  Calidad_de_lead__c  \\\n",
       "0                              1.71                   1                  -1   \n",
       "1                              1.41                   1                  -1   \n",
       "2                            -20.00                   1                  -1   \n",
       "3                             10.00                   1                  -1   \n",
       "4                              1.76                   1                  -1   \n",
       "\n",
       "   Puntaje_calculado  \n",
       "0           5.730402  \n",
       "1           3.820268  \n",
       "2           4.750991  \n",
       "3           0.343825  \n",
       "4           3.247228  "
      ]
     },
     "execution_count": 70,
     "metadata": {},
     "output_type": "execute_result"
    }
   ],
   "source": [
    "df_con_puntajes = calcular_puntaje(df)\n",
    "df_con_puntajes.head()"
   ]
  },
  {
   "cell_type": "code",
   "execution_count": 74,
   "metadata": {},
   "outputs": [
    {
     "name": "stdout",
     "output_type": "stream",
     "text": [
      "Número de registros con Puntaje_calculado entre 50 y 74: 702\n"
     ]
    }
   ],
   "source": [
    "# Filtrar los registros que tienen valores entre 50 y 74\n",
    "filtro = (df['Puntaje_calculado'] >= 0) & (df['Puntaje_calculado'] <= 25)\n",
    "\n",
    "# Contar los registros que cumplen con el filtro\n",
    "conteo = df[filtro].shape[0]\n",
    "\n",
    "print(f'Número de registros con Puntaje_calculado entre 50 y 74: {conteo}')"
   ]
  }
 ],
 "metadata": {
  "kernelspec": {
   "display_name": "Python 3",
   "language": "python",
   "name": "python3"
  },
  "language_info": {
   "codemirror_mode": {
    "name": "ipython",
    "version": 3
   },
   "file_extension": ".py",
   "mimetype": "text/x-python",
   "name": "python",
   "nbconvert_exporter": "python",
   "pygments_lexer": "ipython3",
   "version": "3.11.9"
  }
 },
 "nbformat": 4,
 "nbformat_minor": 2
}
